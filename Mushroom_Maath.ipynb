{
  "nbformat": 4,
  "nbformat_minor": 0,
  "metadata": {
    "colab": {
      "provenance": []
    },
    "kernelspec": {
      "name": "python3",
      "display_name": "Python 3"
    },
    "language_info": {
      "name": "python"
    }
  },
  "cells": [
    {
      "cell_type": "markdown",
      "source": [
        "Import"
      ],
      "metadata": {
        "id": "bhgcUsQcr5Eg"
      }
    },
    {
      "cell_type": "code",
      "execution_count": null,
      "metadata": {
        "id": "rkIg6P7wGtQd",
        "colab": {
          "base_uri": "https://localhost:8080/"
        },
        "outputId": "1c2304a1-c866-4897-9355-e6d7b28d85ba"
      },
      "outputs": [
        {
          "output_type": "stream",
          "name": "stdout",
          "text": [
            "Looking in indexes: https://pypi.org/simple, https://us-python.pkg.dev/colab-wheels/public/simple/\n",
            "Requirement already satisfied: scikit-learn in /usr/local/lib/python3.9/dist-packages (1.2.2)\n",
            "Requirement already satisfied: scipy>=1.3.2 in /usr/local/lib/python3.9/dist-packages (from scikit-learn) (1.10.1)\n",
            "Requirement already satisfied: threadpoolctl>=2.0.0 in /usr/local/lib/python3.9/dist-packages (from scikit-learn) (3.1.0)\n",
            "Requirement already satisfied: joblib>=1.1.1 in /usr/local/lib/python3.9/dist-packages (from scikit-learn) (1.2.0)\n",
            "Requirement already satisfied: numpy>=1.17.3 in /usr/local/lib/python3.9/dist-packages (from scikit-learn) (1.22.4)\n"
          ]
        }
      ],
      "source": [
        "import pandas as pd\n",
        "import numpy as np\n",
        "import matplotlib.pyplot as plt\n",
        "import seaborn as sns\n",
        "\n",
        "import sklearn.metrics as metrics\n",
        "from sklearn.model_selection import train_test_split\n",
        "from sklearn.compose import ColumnTransformer\n",
        "from sklearn.pipeline import Pipeline\n",
        "from sklearn.impute import SimpleImputer\n",
        "from sklearn.preprocessing import OneHotEncoder, OrdinalEncoder\n",
        "from sklearn.model_selection import GridSearchCV\n",
        "from sklearn.feature_selection import VarianceThreshold, SelectFromModel\n",
        "\n",
        "from sklearn.preprocessing import OrdinalEncoder, StandardScaler, OneHotEncoder, MinMaxScaler\n",
        "from sklearn.tree import DecisionTreeRegressor\n",
        "from sklearn.pipeline import make_pipeline\n",
        "from sklearn.compose import ColumnTransformer\n",
        "from sklearn.metrics import mean_absolute_error\n",
        "from sklearn.metrics import mean_squared_error\n",
        "from sklearn.metrics import mean_absolute_percentage_error\n",
        "from sklearn.metrics import r2_score\n",
        "from sklearn.linear_model import SGDRegressor\n",
        "import warnings\n",
        "!pip install scikit-learn --upgrade\n",
        "from matplotlib import pyplot as plt\n",
        "%matplotlib inline\n",
        "sns.set(style=\"whitegrid\")\n",
        "\n",
        "import warnings\n",
        "warnings.filterwarnings(\"ignore\")\n",
        "warnings.filterwarnings(\"ignore\", category=DeprecationWarning) \n",
        "\n",
        "from sklearn.ensemble import RandomForestClassifier\n",
        "from xgboost import XGBClassifier\n",
        "from sklearn.tree import DecisionTreeClassifier, plot_tree"
      ]
    },
    {
      "cell_type": "markdown",
      "source": [
        "**Data Import and Exploration**"
      ],
      "metadata": {
        "id": "BrobL6ZKsBon"
      }
    },
    {
      "cell_type": "code",
      "source": [
        "# import train and test-datasets\n",
        "mushrooms_train = pd.read_csv('train.csv')\n",
        "mushrooms_test = pd.read_csv('test.csv')"
      ],
      "metadata": {
        "id": "kST33FvmG97r"
      },
      "execution_count": null,
      "outputs": []
    },
    {
      "cell_type": "code",
      "source": [
        "mushrooms_train.sample(5)"
      ],
      "metadata": {
        "colab": {
          "base_uri": "https://localhost:8080/",
          "height": 206
        },
        "id": "6-z_gEtzIRuj",
        "outputId": "5d084735-ed60-4894-bed8-d983ec3a9906"
      },
      "execution_count": null,
      "outputs": [
        {
          "output_type": "execute_result",
          "data": {
            "text/plain": [
              "     cap.shape cap.color  bruises stalk.color.above.ring  \\\n",
              "4582         x         n     True                      w   \n",
              "1860         b         g    False                      w   \n",
              "2363         f         n    False                      w   \n",
              "2256         x         n    False                      o   \n",
              "1309         f         y    False                      p   \n",
              "\n",
              "     stalk.color.below.ring population    Id  poisonous  \n",
              "4582                      w          v  6778          1  \n",
              "1860                      w          n  2214          0  \n",
              "2363                      w          a  7852          0  \n",
              "2256                      o          c  1487          0  \n",
              "1309                      p          v  6270          1  "
            ],
            "text/html": [
              "\n",
              "  <div id=\"df-8ccb73ea-fd46-4586-96a5-1fc100c87b4b\">\n",
              "    <div class=\"colab-df-container\">\n",
              "      <div>\n",
              "<style scoped>\n",
              "    .dataframe tbody tr th:only-of-type {\n",
              "        vertical-align: middle;\n",
              "    }\n",
              "\n",
              "    .dataframe tbody tr th {\n",
              "        vertical-align: top;\n",
              "    }\n",
              "\n",
              "    .dataframe thead th {\n",
              "        text-align: right;\n",
              "    }\n",
              "</style>\n",
              "<table border=\"1\" class=\"dataframe\">\n",
              "  <thead>\n",
              "    <tr style=\"text-align: right;\">\n",
              "      <th></th>\n",
              "      <th>cap.shape</th>\n",
              "      <th>cap.color</th>\n",
              "      <th>bruises</th>\n",
              "      <th>stalk.color.above.ring</th>\n",
              "      <th>stalk.color.below.ring</th>\n",
              "      <th>population</th>\n",
              "      <th>Id</th>\n",
              "      <th>poisonous</th>\n",
              "    </tr>\n",
              "  </thead>\n",
              "  <tbody>\n",
              "    <tr>\n",
              "      <th>4582</th>\n",
              "      <td>x</td>\n",
              "      <td>n</td>\n",
              "      <td>True</td>\n",
              "      <td>w</td>\n",
              "      <td>w</td>\n",
              "      <td>v</td>\n",
              "      <td>6778</td>\n",
              "      <td>1</td>\n",
              "    </tr>\n",
              "    <tr>\n",
              "      <th>1860</th>\n",
              "      <td>b</td>\n",
              "      <td>g</td>\n",
              "      <td>False</td>\n",
              "      <td>w</td>\n",
              "      <td>w</td>\n",
              "      <td>n</td>\n",
              "      <td>2214</td>\n",
              "      <td>0</td>\n",
              "    </tr>\n",
              "    <tr>\n",
              "      <th>2363</th>\n",
              "      <td>f</td>\n",
              "      <td>n</td>\n",
              "      <td>False</td>\n",
              "      <td>w</td>\n",
              "      <td>w</td>\n",
              "      <td>a</td>\n",
              "      <td>7852</td>\n",
              "      <td>0</td>\n",
              "    </tr>\n",
              "    <tr>\n",
              "      <th>2256</th>\n",
              "      <td>x</td>\n",
              "      <td>n</td>\n",
              "      <td>False</td>\n",
              "      <td>o</td>\n",
              "      <td>o</td>\n",
              "      <td>c</td>\n",
              "      <td>1487</td>\n",
              "      <td>0</td>\n",
              "    </tr>\n",
              "    <tr>\n",
              "      <th>1309</th>\n",
              "      <td>f</td>\n",
              "      <td>y</td>\n",
              "      <td>False</td>\n",
              "      <td>p</td>\n",
              "      <td>p</td>\n",
              "      <td>v</td>\n",
              "      <td>6270</td>\n",
              "      <td>1</td>\n",
              "    </tr>\n",
              "  </tbody>\n",
              "</table>\n",
              "</div>\n",
              "      <button class=\"colab-df-convert\" onclick=\"convertToInteractive('df-8ccb73ea-fd46-4586-96a5-1fc100c87b4b')\"\n",
              "              title=\"Convert this dataframe to an interactive table.\"\n",
              "              style=\"display:none;\">\n",
              "        \n",
              "  <svg xmlns=\"http://www.w3.org/2000/svg\" height=\"24px\"viewBox=\"0 0 24 24\"\n",
              "       width=\"24px\">\n",
              "    <path d=\"M0 0h24v24H0V0z\" fill=\"none\"/>\n",
              "    <path d=\"M18.56 5.44l.94 2.06.94-2.06 2.06-.94-2.06-.94-.94-2.06-.94 2.06-2.06.94zm-11 1L8.5 8.5l.94-2.06 2.06-.94-2.06-.94L8.5 2.5l-.94 2.06-2.06.94zm10 10l.94 2.06.94-2.06 2.06-.94-2.06-.94-.94-2.06-.94 2.06-2.06.94z\"/><path d=\"M17.41 7.96l-1.37-1.37c-.4-.4-.92-.59-1.43-.59-.52 0-1.04.2-1.43.59L10.3 9.45l-7.72 7.72c-.78.78-.78 2.05 0 2.83L4 21.41c.39.39.9.59 1.41.59.51 0 1.02-.2 1.41-.59l7.78-7.78 2.81-2.81c.8-.78.8-2.07 0-2.86zM5.41 20L4 18.59l7.72-7.72 1.47 1.35L5.41 20z\"/>\n",
              "  </svg>\n",
              "      </button>\n",
              "      \n",
              "  <style>\n",
              "    .colab-df-container {\n",
              "      display:flex;\n",
              "      flex-wrap:wrap;\n",
              "      gap: 12px;\n",
              "    }\n",
              "\n",
              "    .colab-df-convert {\n",
              "      background-color: #E8F0FE;\n",
              "      border: none;\n",
              "      border-radius: 50%;\n",
              "      cursor: pointer;\n",
              "      display: none;\n",
              "      fill: #1967D2;\n",
              "      height: 32px;\n",
              "      padding: 0 0 0 0;\n",
              "      width: 32px;\n",
              "    }\n",
              "\n",
              "    .colab-df-convert:hover {\n",
              "      background-color: #E2EBFA;\n",
              "      box-shadow: 0px 1px 2px rgba(60, 64, 67, 0.3), 0px 1px 3px 1px rgba(60, 64, 67, 0.15);\n",
              "      fill: #174EA6;\n",
              "    }\n",
              "\n",
              "    [theme=dark] .colab-df-convert {\n",
              "      background-color: #3B4455;\n",
              "      fill: #D2E3FC;\n",
              "    }\n",
              "\n",
              "    [theme=dark] .colab-df-convert:hover {\n",
              "      background-color: #434B5C;\n",
              "      box-shadow: 0px 1px 3px 1px rgba(0, 0, 0, 0.15);\n",
              "      filter: drop-shadow(0px 1px 2px rgba(0, 0, 0, 0.3));\n",
              "      fill: #FFFFFF;\n",
              "    }\n",
              "  </style>\n",
              "\n",
              "      <script>\n",
              "        const buttonEl =\n",
              "          document.querySelector('#df-8ccb73ea-fd46-4586-96a5-1fc100c87b4b button.colab-df-convert');\n",
              "        buttonEl.style.display =\n",
              "          google.colab.kernel.accessAllowed ? 'block' : 'none';\n",
              "\n",
              "        async function convertToInteractive(key) {\n",
              "          const element = document.querySelector('#df-8ccb73ea-fd46-4586-96a5-1fc100c87b4b');\n",
              "          const dataTable =\n",
              "            await google.colab.kernel.invokeFunction('convertToInteractive',\n",
              "                                                     [key], {});\n",
              "          if (!dataTable) return;\n",
              "\n",
              "          const docLinkHtml = 'Like what you see? Visit the ' +\n",
              "            '<a target=\"_blank\" href=https://colab.research.google.com/notebooks/data_table.ipynb>data table notebook</a>'\n",
              "            + ' to learn more about interactive tables.';\n",
              "          element.innerHTML = '';\n",
              "          dataTable['output_type'] = 'display_data';\n",
              "          await google.colab.output.renderOutput(dataTable, element);\n",
              "          const docLink = document.createElement('div');\n",
              "          docLink.innerHTML = docLinkHtml;\n",
              "          element.appendChild(docLink);\n",
              "        }\n",
              "      </script>\n",
              "    </div>\n",
              "  </div>\n",
              "  "
            ]
          },
          "metadata": {},
          "execution_count": 3
        }
      ]
    },
    {
      "cell_type": "code",
      "source": [
        "mushrooms_train.info()"
      ],
      "metadata": {
        "colab": {
          "base_uri": "https://localhost:8080/"
        },
        "id": "agdDMTt_Ifiq",
        "outputId": "f84bf3ad-d6fd-4795-9ff2-cbc2e1198e66"
      },
      "execution_count": null,
      "outputs": [
        {
          "output_type": "stream",
          "name": "stdout",
          "text": [
            "<class 'pandas.core.frame.DataFrame'>\n",
            "RangeIndex: 6499 entries, 0 to 6498\n",
            "Data columns (total 8 columns):\n",
            " #   Column                  Non-Null Count  Dtype \n",
            "---  ------                  --------------  ----- \n",
            " 0   cap.shape               6499 non-null   object\n",
            " 1   cap.color               6499 non-null   object\n",
            " 2   bruises                 6499 non-null   bool  \n",
            " 3   stalk.color.above.ring  6499 non-null   object\n",
            " 4   stalk.color.below.ring  6499 non-null   object\n",
            " 5   population              6499 non-null   object\n",
            " 6   Id                      6499 non-null   int64 \n",
            " 7   poisonous               6499 non-null   int64 \n",
            "dtypes: bool(1), int64(2), object(5)\n",
            "memory usage: 361.9+ KB\n"
          ]
        }
      ]
    },
    {
      "cell_type": "code",
      "source": [
        "mushrooms_train.describe()"
      ],
      "metadata": {
        "colab": {
          "base_uri": "https://localhost:8080/",
          "height": 300
        },
        "id": "zDpZuBRJIoYH",
        "outputId": "5c683770-1ee9-495f-f2d4-c7e4e3ec6ff0"
      },
      "execution_count": null,
      "outputs": [
        {
          "output_type": "execute_result",
          "data": {
            "text/plain": [
              "                Id    poisonous\n",
              "count  6499.000000  6499.000000\n",
              "mean   4056.304508     0.485767\n",
              "std    2343.607342     0.499836\n",
              "min       0.000000     0.000000\n",
              "25%    2022.500000     0.000000\n",
              "50%    4058.000000     0.000000\n",
              "75%    6083.500000     1.000000\n",
              "max    8122.000000     1.000000"
            ],
            "text/html": [
              "\n",
              "  <div id=\"df-1afef512-db5f-46ae-b5a1-a634a29f3982\">\n",
              "    <div class=\"colab-df-container\">\n",
              "      <div>\n",
              "<style scoped>\n",
              "    .dataframe tbody tr th:only-of-type {\n",
              "        vertical-align: middle;\n",
              "    }\n",
              "\n",
              "    .dataframe tbody tr th {\n",
              "        vertical-align: top;\n",
              "    }\n",
              "\n",
              "    .dataframe thead th {\n",
              "        text-align: right;\n",
              "    }\n",
              "</style>\n",
              "<table border=\"1\" class=\"dataframe\">\n",
              "  <thead>\n",
              "    <tr style=\"text-align: right;\">\n",
              "      <th></th>\n",
              "      <th>Id</th>\n",
              "      <th>poisonous</th>\n",
              "    </tr>\n",
              "  </thead>\n",
              "  <tbody>\n",
              "    <tr>\n",
              "      <th>count</th>\n",
              "      <td>6499.000000</td>\n",
              "      <td>6499.000000</td>\n",
              "    </tr>\n",
              "    <tr>\n",
              "      <th>mean</th>\n",
              "      <td>4056.304508</td>\n",
              "      <td>0.485767</td>\n",
              "    </tr>\n",
              "    <tr>\n",
              "      <th>std</th>\n",
              "      <td>2343.607342</td>\n",
              "      <td>0.499836</td>\n",
              "    </tr>\n",
              "    <tr>\n",
              "      <th>min</th>\n",
              "      <td>0.000000</td>\n",
              "      <td>0.000000</td>\n",
              "    </tr>\n",
              "    <tr>\n",
              "      <th>25%</th>\n",
              "      <td>2022.500000</td>\n",
              "      <td>0.000000</td>\n",
              "    </tr>\n",
              "    <tr>\n",
              "      <th>50%</th>\n",
              "      <td>4058.000000</td>\n",
              "      <td>0.000000</td>\n",
              "    </tr>\n",
              "    <tr>\n",
              "      <th>75%</th>\n",
              "      <td>6083.500000</td>\n",
              "      <td>1.000000</td>\n",
              "    </tr>\n",
              "    <tr>\n",
              "      <th>max</th>\n",
              "      <td>8122.000000</td>\n",
              "      <td>1.000000</td>\n",
              "    </tr>\n",
              "  </tbody>\n",
              "</table>\n",
              "</div>\n",
              "      <button class=\"colab-df-convert\" onclick=\"convertToInteractive('df-1afef512-db5f-46ae-b5a1-a634a29f3982')\"\n",
              "              title=\"Convert this dataframe to an interactive table.\"\n",
              "              style=\"display:none;\">\n",
              "        \n",
              "  <svg xmlns=\"http://www.w3.org/2000/svg\" height=\"24px\"viewBox=\"0 0 24 24\"\n",
              "       width=\"24px\">\n",
              "    <path d=\"M0 0h24v24H0V0z\" fill=\"none\"/>\n",
              "    <path d=\"M18.56 5.44l.94 2.06.94-2.06 2.06-.94-2.06-.94-.94-2.06-.94 2.06-2.06.94zm-11 1L8.5 8.5l.94-2.06 2.06-.94-2.06-.94L8.5 2.5l-.94 2.06-2.06.94zm10 10l.94 2.06.94-2.06 2.06-.94-2.06-.94-.94-2.06-.94 2.06-2.06.94z\"/><path d=\"M17.41 7.96l-1.37-1.37c-.4-.4-.92-.59-1.43-.59-.52 0-1.04.2-1.43.59L10.3 9.45l-7.72 7.72c-.78.78-.78 2.05 0 2.83L4 21.41c.39.39.9.59 1.41.59.51 0 1.02-.2 1.41-.59l7.78-7.78 2.81-2.81c.8-.78.8-2.07 0-2.86zM5.41 20L4 18.59l7.72-7.72 1.47 1.35L5.41 20z\"/>\n",
              "  </svg>\n",
              "      </button>\n",
              "      \n",
              "  <style>\n",
              "    .colab-df-container {\n",
              "      display:flex;\n",
              "      flex-wrap:wrap;\n",
              "      gap: 12px;\n",
              "    }\n",
              "\n",
              "    .colab-df-convert {\n",
              "      background-color: #E8F0FE;\n",
              "      border: none;\n",
              "      border-radius: 50%;\n",
              "      cursor: pointer;\n",
              "      display: none;\n",
              "      fill: #1967D2;\n",
              "      height: 32px;\n",
              "      padding: 0 0 0 0;\n",
              "      width: 32px;\n",
              "    }\n",
              "\n",
              "    .colab-df-convert:hover {\n",
              "      background-color: #E2EBFA;\n",
              "      box-shadow: 0px 1px 2px rgba(60, 64, 67, 0.3), 0px 1px 3px 1px rgba(60, 64, 67, 0.15);\n",
              "      fill: #174EA6;\n",
              "    }\n",
              "\n",
              "    [theme=dark] .colab-df-convert {\n",
              "      background-color: #3B4455;\n",
              "      fill: #D2E3FC;\n",
              "    }\n",
              "\n",
              "    [theme=dark] .colab-df-convert:hover {\n",
              "      background-color: #434B5C;\n",
              "      box-shadow: 0px 1px 3px 1px rgba(0, 0, 0, 0.15);\n",
              "      filter: drop-shadow(0px 1px 2px rgba(0, 0, 0, 0.3));\n",
              "      fill: #FFFFFF;\n",
              "    }\n",
              "  </style>\n",
              "\n",
              "      <script>\n",
              "        const buttonEl =\n",
              "          document.querySelector('#df-1afef512-db5f-46ae-b5a1-a634a29f3982 button.colab-df-convert');\n",
              "        buttonEl.style.display =\n",
              "          google.colab.kernel.accessAllowed ? 'block' : 'none';\n",
              "\n",
              "        async function convertToInteractive(key) {\n",
              "          const element = document.querySelector('#df-1afef512-db5f-46ae-b5a1-a634a29f3982');\n",
              "          const dataTable =\n",
              "            await google.colab.kernel.invokeFunction('convertToInteractive',\n",
              "                                                     [key], {});\n",
              "          if (!dataTable) return;\n",
              "\n",
              "          const docLinkHtml = 'Like what you see? Visit the ' +\n",
              "            '<a target=\"_blank\" href=https://colab.research.google.com/notebooks/data_table.ipynb>data table notebook</a>'\n",
              "            + ' to learn more about interactive tables.';\n",
              "          element.innerHTML = '';\n",
              "          dataTable['output_type'] = 'display_data';\n",
              "          await google.colab.output.renderOutput(dataTable, element);\n",
              "          const docLink = document.createElement('div');\n",
              "          docLink.innerHTML = docLinkHtml;\n",
              "          element.appendChild(docLink);\n",
              "        }\n",
              "      </script>\n",
              "    </div>\n",
              "  </div>\n",
              "  "
            ]
          },
          "metadata": {},
          "execution_count": 5
        }
      ]
    },
    {
      "cell_type": "markdown",
      "source": [
        "**Values Analysis**"
      ],
      "metadata": {
        "id": "vdGX5BCWsZfe"
      }
    },
    {
      "cell_type": "markdown",
      "source": [
        "Value Counts,\n",
        "Balanced classes,\n",
        "All data categorical,\n",
        "Some categories have only few member\n",
        "\n",
        "\n",
        "\n"
      ],
      "metadata": {
        "id": "JHnYtHY-H4a-"
      }
    },
    {
      "cell_type": "code",
      "source": [
        "# check value counts for the different features\n",
        "for column in mushrooms_train.columns:\n",
        "    print(column, '\\n', mushrooms_train[column].value_counts().sort_values(ascending=False), '\\n')"
      ],
      "metadata": {
        "colab": {
          "base_uri": "https://localhost:8080/"
        },
        "id": "RQke9bpxH5kM",
        "outputId": "e54f629b-a73c-4724-828b-3dbe0965d011"
      },
      "execution_count": null,
      "outputs": [
        {
          "output_type": "stream",
          "name": "stdout",
          "text": [
            "cap.shape \n",
            " x    2935\n",
            "f    2534\n",
            "k     652\n",
            "b     349\n",
            "s      28\n",
            "c       1\n",
            "Name: cap.shape, dtype: int64 \n",
            "\n",
            "cap.color \n",
            " n    1823\n",
            "g    1487\n",
            "e    1197\n",
            "y     848\n",
            "w     823\n",
            "b     143\n",
            "p     117\n",
            "c      34\n",
            "u      14\n",
            "r      13\n",
            "Name: cap.color, dtype: int64 \n",
            "\n",
            "bruises \n",
            " False    3764\n",
            "True     2735\n",
            "Name: bruises, dtype: int64 \n",
            "\n",
            "stalk.color.above.ring \n",
            " w    3537\n",
            "p    1536\n",
            "g     452\n",
            "n     358\n",
            "b     346\n",
            "o     156\n",
            "e      78\n",
            "c      29\n",
            "y       7\n",
            "Name: stalk.color.above.ring, dtype: int64 \n",
            "\n",
            "stalk.color.below.ring \n",
            " w    3481\n",
            "p    1494\n",
            "g     467\n",
            "n     421\n",
            "b     352\n",
            "o     156\n",
            "e      80\n",
            "c      29\n",
            "y      19\n",
            "Name: stalk.color.below.ring, dtype: int64 \n",
            "\n",
            "population \n",
            " v    3219\n",
            "y    1392\n",
            "s     993\n",
            "n     320\n",
            "a     302\n",
            "c     273\n",
            "Name: population, dtype: int64 \n",
            "\n",
            "Id \n",
            " 6573    1\n",
            "1895    1\n",
            "5789    1\n",
            "6187    1\n",
            "2508    1\n",
            "       ..\n",
            "6206    1\n",
            "4658    1\n",
            "5000    1\n",
            "6381    1\n",
            "373     1\n",
            "Name: Id, Length: 6499, dtype: int64 \n",
            "\n",
            "poisonous \n",
            " 0    3342\n",
            "1    3157\n",
            "Name: poisonous, dtype: int64 \n",
            "\n"
          ]
        }
      ]
    },
    {
      "cell_type": "markdown",
      "source": [
        "**no missing values**"
      ],
      "metadata": {
        "id": "RE0XRhkHJEOY"
      }
    },
    {
      "cell_type": "code",
      "source": [
        "# check for missing values\n",
        "for column in mushrooms_test.columns:\n",
        "    print(column, '\\n', mushrooms_test[column].isna().sum(), '\\n')"
      ],
      "metadata": {
        "colab": {
          "base_uri": "https://localhost:8080/"
        },
        "id": "uBss_iNzJCRD",
        "outputId": "324be5cc-dade-4789-e9f9-fa6b252cc763"
      },
      "execution_count": null,
      "outputs": [
        {
          "output_type": "stream",
          "name": "stdout",
          "text": [
            "Id \n",
            " 0 \n",
            "\n",
            "cap.shape \n",
            " 0 \n",
            "\n",
            "cap.color \n",
            " 0 \n",
            "\n",
            "stalk.color.above.ring \n",
            " 0 \n",
            "\n",
            "stalk.color.below.ring \n",
            " 0 \n",
            "\n",
            "bruises \n",
            " 0 \n",
            "\n",
            "population \n",
            " 0 \n",
            "\n"
          ]
        }
      ]
    },
    {
      "cell_type": "code",
      "source": [
        "mushrooms_train.columns"
      ],
      "metadata": {
        "colab": {
          "base_uri": "https://localhost:8080/"
        },
        "id": "wzEu4sz5KDqY",
        "outputId": "cf27615b-f128-4c2d-fb47-89fa7969c05b"
      },
      "execution_count": null,
      "outputs": [
        {
          "output_type": "execute_result",
          "data": {
            "text/plain": [
              "Index(['cap.shape', 'cap.color', 'bruises', 'stalk.color.above.ring',\n",
              "       'stalk.color.below.ring', 'population', 'Id', 'poisonous'],\n",
              "      dtype='object')"
            ]
          },
          "metadata": {},
          "execution_count": 8
        }
      ]
    },
    {
      "cell_type": "markdown",
      "source": [
        "## Preprocessor pipe"
      ],
      "metadata": {
        "id": "03yDYIiiJU59"
      }
    },
    {
      "cell_type": "code",
      "source": [
        "# pick features to transform\n",
        "columns = mushrooms_train.columns[:-2]\n",
        "\n",
        "# create a pipeline for the transformation\n",
        "cat_pipe = Pipeline(steps= [\n",
        "    ('transformer', OneHotEncoder())\n",
        "    ])\n",
        "\n",
        "preprocessor = ColumnTransformer(\n",
        "    transformers=[\n",
        "        ('cat_pipe', cat_pipe, columns),\n",
        "    ], verbose= False\n",
        ")"
      ],
      "metadata": {
        "id": "g-nouGrhJX7-"
      },
      "execution_count": null,
      "outputs": []
    },
    {
      "cell_type": "code",
      "source": [
        "columns"
      ],
      "metadata": {
        "colab": {
          "base_uri": "https://localhost:8080/"
        },
        "id": "z_T04e6SJw_6",
        "outputId": "84369083-1442-4952-97d9-65f646cc6621"
      },
      "execution_count": null,
      "outputs": [
        {
          "output_type": "execute_result",
          "data": {
            "text/plain": [
              "Index(['cap.shape', 'cap.color', 'bruises', 'stalk.color.above.ring',\n",
              "       'stalk.color.below.ring', 'population'],\n",
              "      dtype='object')"
            ]
          },
          "metadata": {},
          "execution_count": 10
        }
      ]
    },
    {
      "cell_type": "code",
      "source": [
        "# split in features and target\n",
        "X = mushrooms_train.drop(['poisonous'], axis=1)\n",
        "y = mushrooms_train['poisonous']\n",
        "\n",
        "# copy for manual false positives tuning\n",
        "X_2 = X.copy()\n",
        "y_2 = y.copy()\n",
        "\n",
        "# Preprocess train data\n",
        "X.drop('Id', axis=1, inplace = True)\n",
        "\n",
        "# Split in train and test data\n",
        "X_train, X_test, y_train, y_test = train_test_split(X, y, test_size=0.2, random_state=1337)\n",
        "\n",
        "# Preprocess final test data\n",
        "X_test_final = mushrooms_test.drop(['Id'], axis=1)"
      ],
      "metadata": {
        "id": "LNtqpVjvJlmQ"
      },
      "execution_count": null,
      "outputs": []
    },
    {
      "cell_type": "markdown",
      "source": [
        "### Functions"
      ],
      "metadata": {
        "id": "Fvo_L5LiBvps"
      }
    },
    {
      "cell_type": "markdown",
      "source": [
        "# **Working with AUC and ROC**"
      ],
      "metadata": {
        "id": "5WCk3BZRYSar"
      }
    },
    {
      "cell_type": "markdown",
      "source": [
        "An ROC curve (receiver operating characteristic curve) is a graph showing the performance of a classification model at all classification thresholds"
      ],
      "metadata": {
        "id": "x5LkjoiXn3Cd"
      }
    },
    {
      "cell_type": "markdown",
      "source": [
        "AUC stands for \"Area under the ROC Curve.\" That is, AUC measures the entire two-dimensional area underneath the entire ROC curve"
      ],
      "metadata": {
        "id": "F0yTyCNHooFy"
      }
    },
    {
      "cell_type": "code",
      "source": [
        "'''\n",
        "Function to plot the AUROC curve for a model.\n",
        "Takes the model, the X_test and y_test data as input.\n",
        "Returns None, but shows the AUROC plot.\n",
        "'''\n",
        "\n",
        "def plotAUROC(model, X_test, y_test):\n",
        "    probs = model.predict_proba(X_test)\n",
        "    preds = probs[:,1]\n",
        "    fpr, tpr, threshold = metrics.roc_curve(y_test, preds)\n",
        "    roc_auc = metrics.auc(fpr, tpr)\n",
        "\n",
        "    plt.title('Receiver Operating Characteristic')\n",
        "    plt.plot(fpr, tpr, 'b', label = 'AUC = %0.2f' % roc_auc)\n",
        "    plt.legend(loc = 'lower right')\n",
        "    plt.plot([0, 1], [0, 1],'r--')\n",
        "    plt.xlim([0, 1])\n",
        "    plt.ylim([0, 1])\n",
        "    plt.ylabel('True Positive Rate')\n",
        "    plt.xlabel('False Positive Rate')\n",
        "    plt.show()"
      ],
      "metadata": {
        "id": "AUpYp1BJKpnf"
      },
      "execution_count": null,
      "outputs": []
    },
    {
      "cell_type": "markdown",
      "source": [
        "**Get Confusion Matrix**"
      ],
      "metadata": {
        "id": "WcEPOdbBCBlY"
      }
    },
    {
      "cell_type": "code",
      "source": [
        "'''\n",
        "Function to get the confusion matrix for a model with the appropriate labels.\n",
        "Takes y_test and y_pred as input.Returns the labelled confusion matrix.\n",
        "'''\n",
        "\n",
        "def get_confusion_matrix(y, y_pred):\n",
        "    confusion_matrix = pd.DataFrame(metrics.confusion_matrix(y, y_pred),\n",
        "                                    columns=['Predicted Not Poisonous', 'Predicted Poisonous'],\n",
        "                                    index=['True Not Poisonous', 'True Poisonous']\n",
        "                                    )\n",
        "    return confusion_matrix"
      ],
      "metadata": {
        "id": "zqVnTCYLOVGl"
      },
      "execution_count": null,
      "outputs": []
    },
    {
      "cell_type": "markdown",
      "source": [
        "**Calculate False Negative Rate**"
      ],
      "metadata": {
        "id": "WzP39riSCRgf"
      }
    },
    {
      "cell_type": "markdown",
      "source": [
        "False Negative Rae indicates that a person does not have a specific disease or condition when the person actually does have the disease or condition."
      ],
      "metadata": {
        "id": "QEmsxIqDCrvQ"
      }
    },
    {
      "cell_type": "code",
      "source": [
        "''' \n",
        "Function to calculate the false-negative-rate for a model. \n",
        "Takes y and y_pred as input.\n",
        "Returns the false-negative-rate.\n",
        "'''\n",
        "\n",
        "def calculate_false_negative_rate(y, y_pred):\n",
        "\n",
        "    confusion_matrix = get_confusion_matrix(y, y_pred)\n",
        "    false_negative_rate = confusion_matrix.loc['True_Poisonous', 'Predicted_Not_Poisonous'] / confusion_matrix.loc['True_Poisonous', :].sum()\n",
        "\n",
        "    return false_negative_rate"
      ],
      "metadata": {
        "id": "oKXhDsM_OmUV"
      },
      "execution_count": null,
      "outputs": []
    },
    {
      "cell_type": "markdown",
      "source": [
        "### Gridsearch"
      ],
      "metadata": {
        "id": "iIo_7TiUDlr2"
      }
    },
    {
      "cell_type": "code",
      "source": [
        "''' \n",
        "Function to perform a gridsearch for the best parameters for a model, minimizing the false negative rate.\n",
        "Takes the parameter name, parameter values, pipeline, X_train, y_train, X_test and y_test as input.\n",
        "Returns the best parameter value.\n",
        "'''\n",
        "\n",
        "def gridsearch(parameter_name, parameter_values, pipeline, X_train, y_train, X_test, y_test):\n",
        "    \n",
        "    best_value = None\n",
        "\n",
        "    for value in parameter_values:\n",
        "        pipeline.set_params(**{f'classifier__{parameter_name}': value})\n",
        "        pipeline.fit(X_train, y_train)\n",
        "\n",
        "        y_pred_test = pipeline.predict(X_test)\n",
        "        false_negative_rate = calculate_false_negative_rate(y_test, y_pred_test)\n",
        "\n",
        "        if best_value is None or false_negative_rate < best_value[1]:\n",
        "            best_value = (value, false_negative_rate) \n",
        "    \n",
        "    return best_value"
      ],
      "metadata": {
        "id": "A1XIKPhTOr1y"
      },
      "execution_count": null,
      "outputs": []
    },
    {
      "cell_type": "markdown",
      "source": [
        "## Get Indices of False Positives"
      ],
      "metadata": {
        "id": "c43hPFewD94D"
      }
    },
    {
      "cell_type": "code",
      "source": [
        "''' \n",
        "Function to find rows (mushrooms) that are predicted to be poisonous, but are actually edible and return their index.\n",
        "Takes y and y_pred as input.\n",
        "Returns a list of indices of the false positives.\n",
        "'''\n",
        "\n",
        "def returnFalsePositivesIndex (y, y_pred):\n",
        "    #get index of false positives\n",
        "    falsePositivesIndex = (\n",
        "        pd.DataFrame(y)\n",
        "        .assign(prediction=y_pred)\n",
        "        .query('poisonous == 0 & prediction == 1')\n",
        "        .index\n",
        "    )\n",
        "\n",
        "    return list(falsePositivesIndex)"
      ],
      "metadata": {
        "id": "fp8daoUiO0NK"
      },
      "execution_count": null,
      "outputs": []
    },
    {
      "cell_type": "markdown",
      "source": [
        "## Modify y"
      ],
      "metadata": {
        "id": "bUFgp1PqERM7"
      }
    },
    {
      "cell_type": "code",
      "source": [
        "''' \n",
        "Function to change the falsePositives of y a number of times.\n",
        "Takes a model/pipe, X, y and n = number of changes as input.\n",
        "Returns the changed y.\n",
        "'''\n",
        "\n",
        "def modify_y(model, X, y, n):\n",
        "    \n",
        "    y = pd.DataFrame(y)\n",
        "    \n",
        "    for i in range(n):   \n",
        "        X_train, X_test, y_train, y_test = train_test_split(X, y, test_size=0.2)\n",
        "        \n",
        "        model.fit(X_train, y_train)\n",
        "\n",
        "        try:\n",
        "            y_pred = model.predict(X_test)\n",
        "        except ValueError:\n",
        "            continue\n",
        "\n",
        "        indices = returnFalsePositivesIndex (y_test, y_pred)\n",
        "\n",
        "        y.loc[pd.DataFrame(y).index.isin(indices), 'poisonous'] = 1\n",
        "\n",
        "    return y"
      ],
      "metadata": {
        "id": "0v0DNooPPAhp"
      },
      "execution_count": null,
      "outputs": []
    },
    {
      "cell_type": "markdown",
      "source": [
        "## Random Forest"
      ],
      "metadata": {
        "id": "QTqlRl3JEZhd"
      }
    },
    {
      "cell_type": "code",
      "source": [
        "# create pipeline with preprocessor and RandomForest as Classifier\n",
        "\n",
        "random_forest_pipe = Pipeline(steps=[\n",
        "    ('preprocessor', preprocessor),\n",
        "    ('classifier', RandomForestClassifier(  random_state=1337,\n",
        "                                            class_weight = {0: 1, 1: 10})) # put more weight on false Positives than false Negatives\n",
        "    ])"
      ],
      "metadata": {
        "id": "R4s33nKBPlLK"
      },
      "execution_count": null,
      "outputs": []
    },
    {
      "cell_type": "code",
      "source": [
        "# fit the pipe to the train data\n",
        "\n",
        "random_forest_pipe.fit(X_train, y_train)\n",
        "\n",
        "# predict y_train and y_test\n",
        "\n",
        "y_pred_train = random_forest_pipe.predict(X_train)\n",
        "y_pred_test = random_forest_pipe.predict(X_test)\n",
        "\n",
        "# print the accuracy\n",
        "\n",
        "print('Accuracy on train-set: ', metrics.accuracy_score(y_true = y_train, y_pred = y_pred_train))\n",
        "print('Accuracy on test-set: ', metrics.accuracy_score(y_true = y_test, y_pred = y_pred_test))"
      ],
      "metadata": {
        "colab": {
          "base_uri": "https://localhost:8080/"
        },
        "id": "LhK2KoBkPn9R",
        "outputId": "2b30a252-4bbc-4bf6-ffb3-d0a81ea5fae2"
      },
      "execution_count": null,
      "outputs": [
        {
          "output_type": "stream",
          "name": "stdout",
          "text": [
            "Accuracy on train-set:  0.9422965954991345\n",
            "Accuracy on test-set:  0.9515384615384616\n"
          ]
        }
      ]
    },
    {
      "cell_type": "markdown",
      "source": [
        "## XGBoost Pipeline"
      ],
      "metadata": {
        "id": "dAuEZQUqEo5c"
      }
    },
    {
      "cell_type": "code",
      "source": [
        "# create pipeline with preprocessor and XGBoost as Classifier\n",
        "\n",
        "xgb_pipe = Pipeline(steps=[\n",
        "    ('preprocessor', preprocessor),\n",
        "    ('classifier', XGBClassifier(   random_state=1337,\n",
        "                                    scale_pos_weight = 5)) # put more weight on false Positives than false Negatives\n",
        "    ])"
      ],
      "metadata": {
        "id": "93OOgtbwPxAZ"
      },
      "execution_count": null,
      "outputs": []
    },
    {
      "cell_type": "code",
      "source": [
        "# fit the pipe to the train data\n",
        "\n",
        "xgb_pipe.fit(X_train, y_train)\n",
        "\n",
        "# predict y_train and y_test\n",
        "\n",
        "y_pred_train = xgb_pipe.predict(X_train)\n",
        "y_pred_test = xgb_pipe.predict(X_test)\n",
        "\n",
        "# print the accuracy\n",
        "\n",
        "print('Accuracy on train-set: ', metrics.accuracy_score(y_true = y_train, y_pred = y_pred_train))\n",
        "print('Accuracy on test-set: ', metrics.accuracy_score(y_true = y_test, y_pred = y_pred_test))"
      ],
      "metadata": {
        "colab": {
          "base_uri": "https://localhost:8080/"
        },
        "id": "C_3HSHI8P0er",
        "outputId": "df7a6ea2-da71-49d8-dc30-357949060f9d"
      },
      "execution_count": null,
      "outputs": [
        {
          "output_type": "stream",
          "name": "stdout",
          "text": [
            "Accuracy on train-set:  0.9415272167724562\n",
            "Accuracy on test-set:  0.9484615384615385\n"
          ]
        }
      ]
    },
    {
      "cell_type": "markdown",
      "source": [
        "## Change false Positives to true"
      ],
      "metadata": {
        "id": "46W8FQ4RFFHn"
      }
    },
    {
      "cell_type": "code",
      "source": [
        "# modify false Positives to true in y five times\n",
        "\n",
        "y_final = modify_y(random_forest_pipe, X_2, y_2, 5)"
      ],
      "metadata": {
        "id": "lOZ7cgRJQCXR"
      },
      "execution_count": null,
      "outputs": []
    },
    {
      "cell_type": "code",
      "source": [
        "# compare original and modified y\n",
        "\n",
        "comparison = pd.concat([y, y_final], axis = 1)\n",
        "\n",
        "comparison.columns.values[0] = 'original'\n",
        "comparison.columns.values[1] = 'modified'\n",
        "\n",
        "(\n",
        "    comparison\n",
        "        .loc[comparison['original'] != comparison['modified'], :]\n",
        ")"
      ],
      "metadata": {
        "colab": {
          "base_uri": "https://localhost:8080/",
          "height": 423
        },
        "id": "3KL24jqMQJsg",
        "outputId": "06d2775e-c95d-4b30-e79a-113b21086243"
      },
      "execution_count": null,
      "outputs": [
        {
          "output_type": "execute_result",
          "data": {
            "text/plain": [
              "      original  modified\n",
              "5            0         1\n",
              "33           0         1\n",
              "113          0         1\n",
              "118          0         1\n",
              "121          0         1\n",
              "...        ...       ...\n",
              "6361         0         1\n",
              "6389         0         1\n",
              "6397         0         1\n",
              "6411         0         1\n",
              "6430         0         1\n",
              "\n",
              "[248 rows x 2 columns]"
            ],
            "text/html": [
              "\n",
              "  <div id=\"df-ed288513-6624-4514-8ede-33e71a10e0cd\">\n",
              "    <div class=\"colab-df-container\">\n",
              "      <div>\n",
              "<style scoped>\n",
              "    .dataframe tbody tr th:only-of-type {\n",
              "        vertical-align: middle;\n",
              "    }\n",
              "\n",
              "    .dataframe tbody tr th {\n",
              "        vertical-align: top;\n",
              "    }\n",
              "\n",
              "    .dataframe thead th {\n",
              "        text-align: right;\n",
              "    }\n",
              "</style>\n",
              "<table border=\"1\" class=\"dataframe\">\n",
              "  <thead>\n",
              "    <tr style=\"text-align: right;\">\n",
              "      <th></th>\n",
              "      <th>original</th>\n",
              "      <th>modified</th>\n",
              "    </tr>\n",
              "  </thead>\n",
              "  <tbody>\n",
              "    <tr>\n",
              "      <th>5</th>\n",
              "      <td>0</td>\n",
              "      <td>1</td>\n",
              "    </tr>\n",
              "    <tr>\n",
              "      <th>33</th>\n",
              "      <td>0</td>\n",
              "      <td>1</td>\n",
              "    </tr>\n",
              "    <tr>\n",
              "      <th>113</th>\n",
              "      <td>0</td>\n",
              "      <td>1</td>\n",
              "    </tr>\n",
              "    <tr>\n",
              "      <th>118</th>\n",
              "      <td>0</td>\n",
              "      <td>1</td>\n",
              "    </tr>\n",
              "    <tr>\n",
              "      <th>121</th>\n",
              "      <td>0</td>\n",
              "      <td>1</td>\n",
              "    </tr>\n",
              "    <tr>\n",
              "      <th>...</th>\n",
              "      <td>...</td>\n",
              "      <td>...</td>\n",
              "    </tr>\n",
              "    <tr>\n",
              "      <th>6361</th>\n",
              "      <td>0</td>\n",
              "      <td>1</td>\n",
              "    </tr>\n",
              "    <tr>\n",
              "      <th>6389</th>\n",
              "      <td>0</td>\n",
              "      <td>1</td>\n",
              "    </tr>\n",
              "    <tr>\n",
              "      <th>6397</th>\n",
              "      <td>0</td>\n",
              "      <td>1</td>\n",
              "    </tr>\n",
              "    <tr>\n",
              "      <th>6411</th>\n",
              "      <td>0</td>\n",
              "      <td>1</td>\n",
              "    </tr>\n",
              "    <tr>\n",
              "      <th>6430</th>\n",
              "      <td>0</td>\n",
              "      <td>1</td>\n",
              "    </tr>\n",
              "  </tbody>\n",
              "</table>\n",
              "<p>248 rows × 2 columns</p>\n",
              "</div>\n",
              "      <button class=\"colab-df-convert\" onclick=\"convertToInteractive('df-ed288513-6624-4514-8ede-33e71a10e0cd')\"\n",
              "              title=\"Convert this dataframe to an interactive table.\"\n",
              "              style=\"display:none;\">\n",
              "        \n",
              "  <svg xmlns=\"http://www.w3.org/2000/svg\" height=\"24px\"viewBox=\"0 0 24 24\"\n",
              "       width=\"24px\">\n",
              "    <path d=\"M0 0h24v24H0V0z\" fill=\"none\"/>\n",
              "    <path d=\"M18.56 5.44l.94 2.06.94-2.06 2.06-.94-2.06-.94-.94-2.06-.94 2.06-2.06.94zm-11 1L8.5 8.5l.94-2.06 2.06-.94-2.06-.94L8.5 2.5l-.94 2.06-2.06.94zm10 10l.94 2.06.94-2.06 2.06-.94-2.06-.94-.94-2.06-.94 2.06-2.06.94z\"/><path d=\"M17.41 7.96l-1.37-1.37c-.4-.4-.92-.59-1.43-.59-.52 0-1.04.2-1.43.59L10.3 9.45l-7.72 7.72c-.78.78-.78 2.05 0 2.83L4 21.41c.39.39.9.59 1.41.59.51 0 1.02-.2 1.41-.59l7.78-7.78 2.81-2.81c.8-.78.8-2.07 0-2.86zM5.41 20L4 18.59l7.72-7.72 1.47 1.35L5.41 20z\"/>\n",
              "  </svg>\n",
              "      </button>\n",
              "      \n",
              "  <style>\n",
              "    .colab-df-container {\n",
              "      display:flex;\n",
              "      flex-wrap:wrap;\n",
              "      gap: 12px;\n",
              "    }\n",
              "\n",
              "    .colab-df-convert {\n",
              "      background-color: #E8F0FE;\n",
              "      border: none;\n",
              "      border-radius: 50%;\n",
              "      cursor: pointer;\n",
              "      display: none;\n",
              "      fill: #1967D2;\n",
              "      height: 32px;\n",
              "      padding: 0 0 0 0;\n",
              "      width: 32px;\n",
              "    }\n",
              "\n",
              "    .colab-df-convert:hover {\n",
              "      background-color: #E2EBFA;\n",
              "      box-shadow: 0px 1px 2px rgba(60, 64, 67, 0.3), 0px 1px 3px 1px rgba(60, 64, 67, 0.15);\n",
              "      fill: #174EA6;\n",
              "    }\n",
              "\n",
              "    [theme=dark] .colab-df-convert {\n",
              "      background-color: #3B4455;\n",
              "      fill: #D2E3FC;\n",
              "    }\n",
              "\n",
              "    [theme=dark] .colab-df-convert:hover {\n",
              "      background-color: #434B5C;\n",
              "      box-shadow: 0px 1px 3px 1px rgba(0, 0, 0, 0.15);\n",
              "      filter: drop-shadow(0px 1px 2px rgba(0, 0, 0, 0.3));\n",
              "      fill: #FFFFFF;\n",
              "    }\n",
              "  </style>\n",
              "\n",
              "      <script>\n",
              "        const buttonEl =\n",
              "          document.querySelector('#df-ed288513-6624-4514-8ede-33e71a10e0cd button.colab-df-convert');\n",
              "        buttonEl.style.display =\n",
              "          google.colab.kernel.accessAllowed ? 'block' : 'none';\n",
              "\n",
              "        async function convertToInteractive(key) {\n",
              "          const element = document.querySelector('#df-ed288513-6624-4514-8ede-33e71a10e0cd');\n",
              "          const dataTable =\n",
              "            await google.colab.kernel.invokeFunction('convertToInteractive',\n",
              "                                                     [key], {});\n",
              "          if (!dataTable) return;\n",
              "\n",
              "          const docLinkHtml = 'Like what you see? Visit the ' +\n",
              "            '<a target=\"_blank\" href=https://colab.research.google.com/notebooks/data_table.ipynb>data table notebook</a>'\n",
              "            + ' to learn more about interactive tables.';\n",
              "          element.innerHTML = '';\n",
              "          dataTable['output_type'] = 'display_data';\n",
              "          await google.colab.output.renderOutput(dataTable, element);\n",
              "          const docLink = document.createElement('div');\n",
              "          docLink.innerHTML = docLinkHtml;\n",
              "          element.appendChild(docLink);\n",
              "        }\n",
              "      </script>\n",
              "    </div>\n",
              "  </div>\n",
              "  "
            ]
          },
          "metadata": {},
          "execution_count": 23
        }
      ]
    },
    {
      "cell_type": "markdown",
      "source": [
        "## Plot Models"
      ],
      "metadata": {
        "id": "Uc6-I9JmFM0B"
      }
    },
    {
      "cell_type": "code",
      "source": [
        "# plot AUROC\n",
        "\n",
        "plotAUROC(xgb_pipe, X_test, y_test)"
      ],
      "metadata": {
        "colab": {
          "base_uri": "https://localhost:8080/",
          "height": 301
        },
        "id": "BdGvoXYwQYwu",
        "outputId": "76abd4e3-be7a-4159-e067-6e700d1a004c"
      },
      "execution_count": null,
      "outputs": [
        {
          "output_type": "display_data",
          "data": {
            "text/plain": [
              "<Figure size 432x288 with 1 Axes>"
            ],
            "image/png": "[encoded data removed]"
          },
          "metadata": {}
        }
      ]
    },
    {
      "cell_type": "code",
      "source": [
        "# plot confusion matrix\n",
        "\n",
        "get_confusion_matrix(y_test, y_pred_test)"
      ],
      "metadata": {
        "colab": {
          "base_uri": "https://localhost:8080/",
          "height": 112
        },
        "id": "8-48M5FjQptk",
        "outputId": "91fc15ef-b021-4b7f-e726-104e9ab82b96"
      },
      "execution_count": null,
      "outputs": [
        {
          "output_type": "execute_result",
          "data": {
            "text/plain": [
              "                    Predicted Not Poisonous  Predicted Poisonous\n",
              "True Not Poisonous                      584                   67\n",
              "True Poisonous                            0                  649"
            ],
            "text/html": [
              "\n",
              "  <div id=\"df-fd82d74d-664c-4c80-90f4-2ba9b1ae8132\">\n",
              "    <div class=\"colab-df-container\">\n",
              "      <div>\n",
              "<style scoped>\n",
              "    .dataframe tbody tr th:only-of-type {\n",
              "        vertical-align: middle;\n",
              "    }\n",
              "\n",
              "    .dataframe tbody tr th {\n",
              "        vertical-align: top;\n",
              "    }\n",
              "\n",
              "    .dataframe thead th {\n",
              "        text-align: right;\n",
              "    }\n",
              "</style>\n",
              "<table border=\"1\" class=\"dataframe\">\n",
              "  <thead>\n",
              "    <tr style=\"text-align: right;\">\n",
              "      <th></th>\n",
              "      <th>Predicted Not Poisonous</th>\n",
              "      <th>Predicted Poisonous</th>\n",
              "    </tr>\n",
              "  </thead>\n",
              "  <tbody>\n",
              "    <tr>\n",
              "      <th>True Not Poisonous</th>\n",
              "      <td>584</td>\n",
              "      <td>67</td>\n",
              "    </tr>\n",
              "    <tr>\n",
              "      <th>True Poisonous</th>\n",
              "      <td>0</td>\n",
              "      <td>649</td>\n",
              "    </tr>\n",
              "  </tbody>\n",
              "</table>\n",
              "</div>\n",
              "      <button class=\"colab-df-convert\" onclick=\"convertToInteractive('df-fd82d74d-664c-4c80-90f4-2ba9b1ae8132')\"\n",
              "              title=\"Convert this dataframe to an interactive table.\"\n",
              "              style=\"display:none;\">\n",
              "        \n",
              "  <svg xmlns=\"http://www.w3.org/2000/svg\" height=\"24px\"viewBox=\"0 0 24 24\"\n",
              "       width=\"24px\">\n",
              "    <path d=\"M0 0h24v24H0V0z\" fill=\"none\"/>\n",
              "    <path d=\"M18.56 5.44l.94 2.06.94-2.06 2.06-.94-2.06-.94-.94-2.06-.94 2.06-2.06.94zm-11 1L8.5 8.5l.94-2.06 2.06-.94-2.06-.94L8.5 2.5l-.94 2.06-2.06.94zm10 10l.94 2.06.94-2.06 2.06-.94-2.06-.94-.94-2.06-.94 2.06-2.06.94z\"/><path d=\"M17.41 7.96l-1.37-1.37c-.4-.4-.92-.59-1.43-.59-.52 0-1.04.2-1.43.59L10.3 9.45l-7.72 7.72c-.78.78-.78 2.05 0 2.83L4 21.41c.39.39.9.59 1.41.59.51 0 1.02-.2 1.41-.59l7.78-7.78 2.81-2.81c.8-.78.8-2.07 0-2.86zM5.41 20L4 18.59l7.72-7.72 1.47 1.35L5.41 20z\"/>\n",
              "  </svg>\n",
              "      </button>\n",
              "      \n",
              "  <style>\n",
              "    .colab-df-container {\n",
              "      display:flex;\n",
              "      flex-wrap:wrap;\n",
              "      gap: 12px;\n",
              "    }\n",
              "\n",
              "    .colab-df-convert {\n",
              "      background-color: #E8F0FE;\n",
              "      border: none;\n",
              "      border-radius: 50%;\n",
              "      cursor: pointer;\n",
              "      display: none;\n",
              "      fill: #1967D2;\n",
              "      height: 32px;\n",
              "      padding: 0 0 0 0;\n",
              "      width: 32px;\n",
              "    }\n",
              "\n",
              "    .colab-df-convert:hover {\n",
              "      background-color: #E2EBFA;\n",
              "      box-shadow: 0px 1px 2px rgba(60, 64, 67, 0.3), 0px 1px 3px 1px rgba(60, 64, 67, 0.15);\n",
              "      fill: #174EA6;\n",
              "    }\n",
              "\n",
              "    [theme=dark] .colab-df-convert {\n",
              "      background-color: #3B4455;\n",
              "      fill: #D2E3FC;\n",
              "    }\n",
              "\n",
              "    [theme=dark] .colab-df-convert:hover {\n",
              "      background-color: #434B5C;\n",
              "      box-shadow: 0px 1px 3px 1px rgba(0, 0, 0, 0.15);\n",
              "      filter: drop-shadow(0px 1px 2px rgba(0, 0, 0, 0.3));\n",
              "      fill: #FFFFFF;\n",
              "    }\n",
              "  </style>\n",
              "\n",
              "      <script>\n",
              "        const buttonEl =\n",
              "          document.querySelector('#df-fd82d74d-664c-4c80-90f4-2ba9b1ae8132 button.colab-df-convert');\n",
              "        buttonEl.style.display =\n",
              "          google.colab.kernel.accessAllowed ? 'block' : 'none';\n",
              "\n",
              "        async function convertToInteractive(key) {\n",
              "          const element = document.querySelector('#df-fd82d74d-664c-4c80-90f4-2ba9b1ae8132');\n",
              "          const dataTable =\n",
              "            await google.colab.kernel.invokeFunction('convertToInteractive',\n",
              "                                                     [key], {});\n",
              "          if (!dataTable) return;\n",
              "\n",
              "          const docLinkHtml = 'Like what you see? Visit the ' +\n",
              "            '<a target=\"_blank\" href=https://colab.research.google.com/notebooks/data_table.ipynb>data table notebook</a>'\n",
              "            + ' to learn more about interactive tables.';\n",
              "          element.innerHTML = '';\n",
              "          dataTable['output_type'] = 'display_data';\n",
              "          await google.colab.output.renderOutput(dataTable, element);\n",
              "          const docLink = document.createElement('div');\n",
              "          docLink.innerHTML = docLinkHtml;\n",
              "          element.appendChild(docLink);\n",
              "        }\n",
              "      </script>\n",
              "    </div>\n",
              "  </div>\n",
              "  "
            ]
          },
          "metadata": {},
          "execution_count": 25
        }
      ]
    },
    {
      "cell_type": "markdown",
      "source": [
        "## Final Output and Submission"
      ],
      "metadata": {
        "id": "uSDAibU-GQTP"
      }
    },
    {
      "cell_type": "code",
      "source": [
        "# fit random_forest_pipe again with y_final and predict the outcomes\n",
        "\n",
        "random_forest_pipe.fit(X, y_final)\n",
        "y_pred_final = random_forest_pipe.predict(X_test_final)"
      ],
      "metadata": {
        "id": "kAI7lmCoQ45b"
      },
      "execution_count": null,
      "outputs": []
    },
    {
      "cell_type": "code",
      "source": [
        "# fit xgb_pipe again with y_final and predict the outcomes\n",
        "\n",
        "xgb_pipe.fit(X, y_final)\n",
        "y_pred_final = xgb_pipe.predict(X_test_final)"
      ],
      "metadata": {
        "id": "1CjsdePfQ-Fe"
      },
      "execution_count": null,
      "outputs": []
    },
    {
      "cell_type": "code",
      "source": [
        "# export predicted values to csv\n",
        "\n",
        "(\n",
        "    mushrooms_test\n",
        "    .assign(poisonous=y_pred_final)\n",
        "    [['Id', 'poisonous']]\n",
        "    .to_csv('submission03.csv', index=False)\n",
        ")"
      ],
      "metadata": {
        "id": "BYaJZ3uCAJ91"
      },
      "execution_count": null,
      "outputs": []
    }
  ]
}